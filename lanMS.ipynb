{
  "nbformat": 4,
  "nbformat_minor": 0,
  "metadata": {
    "colab": {
      "provenance": [],
      "authorship_tag": "ABX9TyNn0c1nYOeELFeW/+F2r1+m",
      "include_colab_link": true
    },
    "kernelspec": {
      "name": "python3",
      "display_name": "Python 3"
    },
    "language_info": {
      "name": "python"
    }
  },
  "cells": [
    {
      "cell_type": "markdown",
      "metadata": {
        "id": "view-in-github",
        "colab_type": "text"
      },
      "source": [
        "<a href=\"https://colab.research.google.com/github/BriouaNorElHouda/py/blob/main/lanMS.ipynb\" target=\"_parent\"><img src=\"https://colab.research.google.com/assets/colab-badge.svg\" alt=\"Open In Colab\"/></a>"
      ]
    },
    {
      "cell_type": "code",
      "execution_count": null,
      "metadata": {
        "id": "33l4N4_T9-rv"
      },
      "outputs": [],
      "source": [
        "import numpy as np\n",
        "import tensorflow as tf\n",
        "import matplotlib.pyplot as plt\n",
        "import zipfile\n",
        "import requests\n",
        "import os\n",
        "import io\n",
        "import cv2\n",
        "import shutil\n",
        "from PIL import Image\n",
        "import tensorflow as tf\n",
        "from skimage.transform import resize\n",
        "from tensorflow import keras\n",
        "from keras.optimizers import Adam\n",
        "from tensorflow.keras.preprocessing.image import ImageDataGenerator\n",
        "from tensorflow.keras.models import Sequential\n",
        "from keras.models import Sequential\n",
        "from tensorflow.keras import Model\n",
        "from tensorflow.keras.layers import Input, Conv2D\n",
        "from tensorflow.keras.layers import Dense, Dropout, Activation, Flatten,Conv2D , MaxPooling2D\n",
        "from tensorflow.keras.callbacks import TensorBoard\n",
        "from tensorflow.keras.losses import CategoricalCrossentropy\n",
        "from tqdm import tqdm\n",
        "from tensorflow.keras.applications import VGG16\n",
        "from sklearn.model_selection import train_test_split\n",
        "from tensorflow.keras.utils import to_categorical\n",
        "from tensorflow.keras.utils import plot_model\n",
        "import time\n",
        "import rasterio\n",
        "from rasterio.plot import show, show_hist,  reshape_as_image\n"
      ]
    },
    {
      "cell_type": "code",
      "source": [
        "labels = {\n",
        "    'AnnualCrop': 0,\n",
        "    'Forest': 1,\n",
        "    'HerbaceousVegetation': 2,\n",
        "    'Highway': 3,\n",
        "    'Industrial': 4,\n",
        "    'Pasture': 5,\n",
        "    'PermanentCrop': 6,\n",
        "    'Residential': 7,\n",
        "    'River': 8,\n",
        "    'SeaLake': 9,\n",
        "}"
      ],
      "metadata": {
        "id": "82UwMUep-Gvy"
      },
      "execution_count": null,
      "outputs": []
    },
    {
      "cell_type": "code",
      "source": [
        "zip_path = '/content/drive/MyDrive/Colab Notebooks/EuroSatMS.zip'\n",
        "\n",
        "extracted_path = \"/content/EuroSatDS\"\n",
        "with zipfile.ZipFile(zip_path, 'r') as z:\n",
        "    z.extractall(extracted_path)\n",
        "\n",
        "data = []\n",
        "\n",
        "src_path = os.path.join(extracted_path, \"EuroSatDS\")\n",
        "subclass = sorted(os.listdir(src_path))\n",
        "\n",
        "def create_data():\n",
        "    for sclass in subclass:\n",
        "        path = os.path.join(src_path, sclass)\n",
        "        class_num = subclass.index(sclass)\n",
        "        for img in tqdm(os.listdir(path)):\n",
        "            img_array = cv2.imread(os.path.join(path, img), cv2.IMREAD_COLOR)\n",
        "            new_array = cv2.resize(img_array, (64, 64))\n",
        "            data.append([new_array, class_num])\n",
        "\n",
        "create_data()\n",
        "\n",
        "print(\"Total samples in the dataset:\", len(data))"
      ],
      "metadata": {
        "id": "5KQLTFM0-Je0"
      },
      "execution_count": null,
      "outputs": []
    },
    {
      "cell_type": "code",
      "source": [
        "X = []\n",
        "y = []\n",
        "\n",
        "for features, label in data:\n",
        "    X.append(features)\n",
        "    y.append(label)\n",
        "\n",
        "\n",
        "X_train, X_test, y_train, y_test = train_test_split(X, y, test_size=0.2, random_state=42)\n",
        "\n",
        "class MyDataGenerator(keras.utils.Sequence):\n",
        "    def __init__(self, X, y, batch_size):\n",
        "        self.X = X\n",
        "        self.y = y\n",
        "        self.batch_size = batch_size\n",
        "        self.num_samples = len(X)\n",
        "\n",
        "    def __len__(self):\n",
        "        return int(np.ceil(self.num_samples / self.batch_size))\n",
        "\n",
        "    def __getitem__(self, index):\n",
        "        start = index * self.batch_size\n",
        "        end = min((index + 1) * self.batch_size, self.num_samples)\n",
        "\n",
        "        batch_X = self.X[start:end]\n",
        "        batch_y = self.y[start:end]\n",
        "\n",
        "        batch_X = np.array(batch_X).reshape(-1,64, 64, 13) / 255.0\n",
        "        batch_y = np.array(batch_y)\n",
        "\n",
        "        return batch_X, batch_y\n",
        "\n",
        "batch_size = 64\n",
        "train_generator = MyDataGenerator(X_train, y_train, batch_size)\n",
        "test_generator = MyDataGenerator(X_test, y_test, batch_size)"
      ],
      "metadata": {
        "id": "jpjARjD3-TbM"
      },
      "execution_count": null,
      "outputs": []
    },
    {
      "cell_type": "code",
      "source": [
        "NAME=\"MS115\"\n",
        "\n",
        "model=Sequential(Input(shape=(100,)))\n",
        "\n",
        "model.add(Conv2D(32, kernel_size=(3, 3),  activation='relu',  input_shape=(64, 64, 13)))\n",
        "model.add(MaxPooling2D(pool_size=(2, 2)))\n",
        "\n",
        "model.add(Conv2D(64, (3, 3), activation='relu'))\n",
        "model.add(MaxPooling2D(pool_size=(2, 2)))\n",
        "\n",
        "model.add(Conv2D(128, (3, 3), activation='relu'))\n",
        "model.add(MaxPooling2D(pool_size=(2, 2)))\n",
        "\n",
        "model.add(Conv2D(256, (3, 3), activation='relu'))\n",
        "model.add(MaxPooling2D(pool_size=(2, 2)))\n",
        "\n",
        "\n",
        "model.add(Flatten())\n",
        "model.add(Dropout(0.5))\n",
        "model.add(Dense(512, activation='relu'))\n",
        "model.add(Dense(10, activation='softmax'))\n",
        "\n",
        "tensorboard= TensorBoard(log_dir=\"logs\\{}\".format(NAME))\n",
        "\n",
        "model.compile(loss='sparse_categorical_crossentropy',\n",
        "              optimizer=tf.keras.optimizers.Adam(learning_rate=0.0001),\n",
        "              metrics=['accuracy'])\n",
        "\n",
        "\n",
        "history = model.fit(train_generator, epochs=100,batch_size=64, validation_data=test_generator,callbacks=[tensorboard])"
      ],
      "metadata": {
        "id": "60VMbWiO-UfE"
      },
      "execution_count": null,
      "outputs": []
    },
    {
      "cell_type": "code",
      "source": [
        "\n",
        "def modifyis(model, new_input_shape=(64, 64, 13)):\n",
        "    new_input = Input(shape=new_input_shape)\n",
        "    x = model.layers[-2].output\n",
        "    x = Conv2D(64, (3, 3), activation='relu', padding='same', name='new_conv')(new_input)\n",
        "    for layer in model.layers[-1:]:\n",
        "        x = layer(x)\n",
        "    new_model = Model(inputs=new_input, outputs=x)\n",
        "    return new_model\n"
      ],
      "metadata": {
        "id": "vHKx3shV-Z6F"
      },
      "execution_count": null,
      "outputs": []
    },
    {
      "cell_type": "code",
      "source": [
        "#VGG16\n",
        "convgg = VGG16(weights='imagenet', include_top=False, input_shape=(64, 64, 3))\n",
        "convggMS = modifyis(convgg, new_input_shape=(64, 64, 13))"
      ],
      "metadata": {
        "id": "pPtOgI-C-dUB"
      },
      "execution_count": null,
      "outputs": []
    },
    {
      "cell_type": "code",
      "source": [
        "NAME=\"MSVGG\"\n",
        "\n",
        "model=Sequential()\n",
        "model.add(convggMS)\n",
        "model.add(Flatten())\n",
        "model.add(Dropout(0.5))\n",
        "model.add(Dense(512, activation='relu'))\n",
        "model.add(Dense(10, activation='softmax'))\n",
        "\n",
        "tensorboard= TensorBoard(log_dir=\"logs\\{}\".format(NAME))\n",
        "\n",
        "model.compile(loss='sparse_categorical_crossentropy',\n",
        "              optimizer=tf.keras.optimizers.Adam(learning_rate=0.00001),\n",
        "              metrics=['accuracy'])\n",
        "\n",
        "\n",
        "history = model.fit(train_generator, epochs=100,batch_size=64, validation_data=test_generator,callbacks=[tensorboard])"
      ],
      "metadata": {
        "id": "GEM2sCUe-vZN"
      },
      "execution_count": null,
      "outputs": []
    },
    {
      "cell_type": "code",
      "source": [
        "#ResNet50\n",
        "base_model = keras.applications.ResNet50(weights='imagenet', include_top=False, input_shape=(64, 64, 3))\n",
        "ResNetMS = modifyis(base_model, new_input_shape=(64, 64, 13))"
      ],
      "metadata": {
        "id": "z0u40CcP-zPa"
      },
      "execution_count": null,
      "outputs": []
    },
    {
      "cell_type": "code",
      "source": [
        "NAME=\"MSRN\"\n",
        "\n",
        "model=Sequential()\n",
        "model.add(ResNetMS)\n",
        "model.add(Flatten())\n",
        "model.add(Dropout(0.5))\n",
        "model.add(Dense(512, activation='relu'))\n",
        "model.add(Dense(10, activation='softmax'))\n",
        "\n",
        "tensorboard= TensorBoard(log_dir=\"logs\\{}\".format(NAME))\n",
        "\n",
        "model.compile(loss='sparse_categorical_crossentropy',\n",
        "              optimizer=tf.keras.optimizers.Adam(learning_rate=0.00001),\n",
        "              metrics=['accuracy'])\n",
        "\n",
        "\n",
        "history = model.fit(train_generator, epochs=100,batch_size=64, validation_data=test_generator,callbacks=[tensorboard])"
      ],
      "metadata": {
        "id": "MCLp81Y8-4FA"
      },
      "execution_count": null,
      "outputs": []
    },
    {
      "cell_type": "code",
      "source": [
        "#Plot Model Loss\n",
        "plt.subplot(211)\n",
        "plt.title('Model Loss')\n",
        "plt.plot(history.history['loss'], color='blue', label='train')\n",
        "plt.plot(history.history['val_loss'], color='green', label='test')\n",
        "plt.ylabel('Loss')\n",
        "plt.xlabel('Epochs')\n",
        "plt.legend(['Training','Validation'],loc='upper right')\n"
      ],
      "metadata": {
        "id": "pbXh5inC-5J2"
      },
      "execution_count": null,
      "outputs": []
    },
    {
      "cell_type": "code",
      "source": [
        "\n",
        "# Plot Accuracy\n",
        "plt.subplot(211)\n",
        "plt.title('Model Accuracy')\n",
        "plt.plot(history.history['accuracy'], color='blue', label='train')\n",
        "plt.plot(history.history['val_accuracy'], color='green', label='test')\n",
        "plt.ylabel('Accuracy')\n",
        "plt.xlabel('Epochs')\n",
        "plt.legend(['Training','Validation'],loc='lower right')"
      ],
      "metadata": {
        "id": "uuozggmE-8b4"
      },
      "execution_count": null,
      "outputs": []
    },
    {
      "cell_type": "code",
      "source": [
        "save_path = '/content/drive/MyDrive/Colab Notebooks/MyModels/vggms115.h5'\n",
        "model.save(save_path)"
      ],
      "metadata": {
        "id": "uP63plPA--nL"
      },
      "execution_count": null,
      "outputs": []
    },
    {
      "cell_type": "code",
      "source": [
        "model.summary()"
      ],
      "metadata": {
        "id": "2WuMoxvI_G9R"
      },
      "execution_count": null,
      "outputs": []
    },
    {
      "cell_type": "code",
      "source": [
        "from sklearn.metrics import confusion_matrix\n",
        "import seaborn as sns\n",
        "import matplotlib.pyplot as plt\n",
        "\n",
        "# Predict the test set\n",
        "y_pred = model.predict(test_generator)\n",
        "y_pred_classes = np.argmax(y_pred, axis=1)\n",
        "\n",
        "# Create a confusion matrix\n",
        "cm = confusion_matrix(y_test, y_pred_classes)\n",
        "sns.heatmap(cm, annot=True, fmt=\"d\", cmap=\"Blues\", xticklabels=labels, yticklabels=labels)\n",
        "plt.xlabel(\"Predicted Class\")\n",
        "plt.ylabel(\"True Class\")\n",
        "plt.title(\"Confusion Matrix\")\n",
        "plt.show()"
      ],
      "metadata": {
        "id": "nEdEJZgQ_PVq"
      },
      "execution_count": null,
      "outputs": []
    }
  ]
}